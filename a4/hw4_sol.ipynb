{
 "cells": [
  {
   "cell_type": "markdown",
   "metadata": {},
   "source": [
    "# CSC311 - HW4 Solution"
   ]
  },
  {
   "cell_type": "markdown",
   "metadata": {},
   "source": [
    "# Anlan Wu - utorid: wuanlan"
   ]
  },
  {
   "cell_type": "markdown",
   "metadata": {},
   "source": [
    "# 1. Unsupervised Learning"
   ]
  },
  {
   "cell_type": "code",
   "execution_count": 1,
   "metadata": {},
   "outputs": [],
   "source": [
    "%matplotlib inline\n",
    "import scipy\n",
    "import numpy as np\n",
    "import itertools\n",
    "import matplotlib.pyplot as plt"
   ]
  },
  {
   "cell_type": "markdown",
   "metadata": {},
   "source": [
    "## 1. Generating the data\n",
    "\n",
    "First, we will generate some data for this problem. Set the number of points $N=400$, their dimension $D=2$, and the number of clusters $K=2$, and generate data from the distribution $p(x|z=k) = \\mathcal{N}(\\mu_k, \\Sigma_k)$.\n",
    "  Sample $200$ data points for $k=1$ and 200 for $k=2$, with\n",
    "\n",
    "  $$\n",
    "    \\mu_1=\n",
    "    \\begin{bmatrix}\n",
    "      0.1 \\\\\n",
    "      0.1\n",
    "    \\end{bmatrix}\n",
    "    \\ \\text{,}\\\n",
    "    \\mu_2=\n",
    "    \\begin{bmatrix}\n",
    "      6.0 \\\\\n",
    "      0.1\n",
    "    \\end{bmatrix}\n",
    "    \\ \\text{ and }\\\n",
    "    \\Sigma_1=\\Sigma_2=\n",
    "    \\begin{bmatrix}\n",
    "      10       & 7 \\\\\n",
    "      7 & 10\n",
    "    \\end{bmatrix}\n",
    "  $$\n",
    "  Here, $N=400$. Since you generated the data, you already know which sample comes from which class.\n",
    "  Run the cell in the IPython notebook to generate the data."
   ]
  },
  {
   "cell_type": "code",
   "execution_count": 2,
   "metadata": {},
   "outputs": [],
   "source": [
    "# TODO: Run this cell to generate the data\n",
    "num_samples = 400\n",
    "cov = np.array([[1., .7], [.7, 1.]]) * 10\n",
    "mean_1 = [.1, .1]\n",
    "mean_2 = [6., .1]\n",
    "\n",
    "x_class1 = np.random.multivariate_normal(mean_1, cov, num_samples // 2)\n",
    "x_class2 = np.random.multivariate_normal(mean_2, cov, num_samples // 2)\n",
    "xy_class1 = np.column_stack((x_class1, np.zeros(num_samples // 2)))\n",
    "xy_class2 = np.column_stack((x_class2, np.ones(num_samples // 2)))\n",
    "data_full = np.row_stack([xy_class1, xy_class2])\n",
    "np.random.shuffle(data_full)\n",
    "data = data_full[:, :2]\n",
    "labels = data_full[:, 2]"
   ]
  },
  {
   "cell_type": "markdown",
   "metadata": {},
   "source": [
    "Make a scatter plot of the data points showing the true cluster assignment of each point using different color codes and shape (x for first class and circles for second class):"
   ]
  },
  {
   "cell_type": "code",
   "execution_count": 29,
   "metadata": {},
   "outputs": [
    {
     "data": {
      "text/plain": [
       "[<matplotlib.lines.Line2D at 0x7fd912760240>]"
      ]
     },
     "execution_count": 29,
     "metadata": {},
     "output_type": "execute_result"
    },
    {
     "data": {
      "image/png": "[encoded data removed]",
      "text/plain": [
       "<Figure size 432x288 with 1 Axes>"
      ]
     },
     "metadata": {
      "needs_background": "light"
     },
     "output_type": "display_data"
    }
   ],
   "source": [
    "# TODO: Make a scatterplot for the data points showing the true cluster assignments of each point\n",
    "plt.plot(x_class1[:,0], x_class1[:,1], 'xr') # first class, x shape\n",
    "plt.plot(x_class2[:,0], x_class2[:,1], '.b') # second class, circle shape"
   ]
  },
  {
   "cell_type": "markdown",
   "metadata": {},
   "source": [
    "## 2. Implement and Run K-Means algorithm\n",
    "\n",
    "Now, we assume that the true class labels are not known. Implement the k-means algorithm for this problem.\n",
    "  Write two functions: `km_assignment_step`, and `km_refitting_step` as given in the lecture (Here, `km_` means k-means).\n",
    "  Identify the correct arguments, and the order to run them. Initialize the algorithm with\n",
    "  $$\n",
    "    \\hat\\mu_1=\n",
    "    \\begin{bmatrix}\n",
    "      0.0 \\\\\n",
    "      0.0\n",
    "    \\end{bmatrix}\n",
    "    \\ \\text{,}\\\n",
    "    \\hat\\mu_2=\n",
    "    \\begin{bmatrix}\n",
    "      1.0 \\\\\n",
    "      1.0\n",
    "    \\end{bmatrix}\n",
    "  $$\n",
    "  and run it until convergence.\n",
    "  Show the resulting cluster assignments on a scatter plot either using different color codes or shape or both.\n",
    "  Also plot the cost vs. the number of iterations. Report your misclassification error."
   ]
  },
  {
   "cell_type": "code",
   "execution_count": 4,
   "metadata": {},
   "outputs": [],
   "source": [
    "def cost(data, R, Mu):\n",
    "    N, D = data.shape\n",
    "    K = Mu.shape[1]\n",
    "    J = 0\n",
    "    for k in range(K):\n",
    "        J += np.sum(np.dot(np.linalg.norm(data - np.array([Mu[:, k], ] * N), axis=1)**2, R))\n",
    "    return J"
   ]
  },
  {
   "cell_type": "code",
   "execution_count": 8,
   "metadata": {},
   "outputs": [],
   "source": [
    "# TODO: K-Means Assignment Step\n",
    "def km_assignment_step(data, Mu):\n",
    "    \"\"\" Compute K-Means assignment step\n",
    "    \n",
    "    Args:\n",
    "        data: a NxD matrix for the data points\n",
    "        Mu: a DxK matrix for the cluster means locations\n",
    "    \n",
    "    Returns:\n",
    "        R_new: a NxK matrix of responsibilities\n",
    "    \"\"\"\n",
    "    \n",
    "    # Fill this in:\n",
    "    N, D = data.shape # Number of datapoints and dimension of datapoint\n",
    "    K = Mu.shape[1] # number of clusters\n",
    "    r = np.zeros((N, K))\n",
    "    for k in range(K):\n",
    "        r[:, k] = np.linalg.norm(data - np.array([Mu[:, k], ] * N), axis=1)**2\n",
    "    arg_min = np.argmin(r, axis=1) # argmax/argmin along dimension 1\n",
    "    #R_new = np.zeros((N, K)) # Set to zeros/ones with shape (N, K)\n",
    "    #R_new[..., ...] = 1 # Assign to 1\n",
    "    R_new = np.vstack([1 - arg_min, arg_min]).T\n",
    "    #print(R_new)\n",
    "    return R_new"
   ]
  },
  {
   "cell_type": "code",
   "execution_count": 9,
   "metadata": {},
   "outputs": [],
   "source": [
    "# TODO: K-means Refitting Step\n",
    "def km_refitting_step(data, R, Mu):\n",
    "    \"\"\" Compute K-Means refitting step.\n",
    "    \n",
    "    Args:\n",
    "        data: a NxD matrix for the data points\n",
    "        R: a NxK matrix of responsibilities\n",
    "        Mu: a DxK matrix for the cluster means locations\n",
    "    \n",
    "    Returns:\n",
    "        Mu_new: a DxK matrix for the new cluster means locations\n",
    "    \"\"\"\n",
    "    N, D = data.shape # Number of datapoints and dimension of datapoint\n",
    "    K = Mu.shape[1]  # number of clusters\n",
    "    Mu_new = R.T.dot(data).T / np.vstack([np.sum(R, axis=0), np.sum(R, axis=0)])\n",
    "    return Mu_new"
   ]
  },
  {
   "cell_type": "code",
   "execution_count": 40,
   "metadata": {},
   "outputs": [
    {
     "name": "stdout",
     "output_type": "stream",
     "text": [
      "0 33414.87875139048\n",
      "1 33204.151383059085\n",
      "2 33106.848102897886\n",
      "3 33108.153478690474\n",
      "4 33108.58562195947\n",
      "5 33112.14778583632\n",
      "6 33114.74264177763\n",
      "7 33118.32917934032\n",
      "8 33118.32917934032\n",
      "9 33118.32917934032\n"
     ]
    }
   ],
   "source": [
    "# TODO: Run this cell to call the K-means algorithm\n",
    "N, D = data.shape\n",
    "K = 2\n",
    "max_iter = 10\n",
    "class_init = np.random.binomial(1., .5, size=N)\n",
    "R = np.vstack([class_init, 1 - class_init]).T\n",
    "\n",
    "Mu = np.zeros([D, K])\n",
    "Mu[:, 1] = 1.\n",
    "R.T.dot(data), np.sum(R, axis=0)\n",
    "\n",
    "costs = []\n",
    "for it in range(max_iter):\n",
    "    R = km_assignment_step(data, Mu)\n",
    "    Mu = km_refitting_step(data, R, Mu)\n",
    "    J = cost(data, R, Mu)\n",
    "    costs.append(J)\n",
    "    print(it, J)\n",
    "\n",
    "class1_indices = np.where(R[:, 0])[0] # indices of class_1\n",
    "class2_indices = np.where(R[:, 1])[0] # indices of class_2\n",
    "\n",
    "class1 = data[class1_indices]\n",
    "class2 = data[class2_indices]"
   ]
  },
  {
   "cell_type": "code",
   "execution_count": 41,
   "metadata": {},
   "outputs": [
    {
     "data": {
      "text/plain": [
       "[<matplotlib.lines.Line2D at 0x7fd911593860>]"
      ]
     },
     "execution_count": 41,
     "metadata": {},
     "output_type": "execute_result"
    },
    {
     "data": {
      "image/png": "[encoded data removed]",
      "text/plain": [
       "<Figure size 432x288 with 1 Axes>"
      ]
     },
     "metadata": {
      "needs_background": "light"
     },
     "output_type": "display_data"
    }
   ],
   "source": [
    "# TODO: Make a scatterplot for the data points showing the K-Means cluster assignments of each point\n",
    "plt.plot(class1[:,0], class1[:,1], 'xr') # first class, x shape\n",
    "plt.plot(class2[:,0], class2[:,1], '.b') # second class, circle shape"
   ]
  },
  {
   "cell_type": "code",
   "execution_count": 42,
   "metadata": {},
   "outputs": [
    {
     "data": {
      "text/plain": [
       "Text(0.5, 1.0, 'Cost by Iteration')"
      ]
     },
     "execution_count": 42,
     "metadata": {},
     "output_type": "execute_result"
    },
    {
     "data": {
      "image/png": "[encoded data removed]",
      "text/plain": [
       "<Figure size 432x288 with 1 Axes>"
      ]
     },
     "metadata": {
      "needs_background": "light"
     },
     "output_type": "display_data"
    }
   ],
   "source": [
    "plt.plot([i for i in range(max_iter)], costs)\n",
    "plt.xlabel(\"iteration number\")\n",
    "plt.ylabel(\"cost\")\n",
    "plt.title(\"Cost by Iteration\")"
   ]
  },
  {
   "cell_type": "code",
   "execution_count": 338,
   "metadata": {},
   "outputs": [
    {
     "name": "stdout",
     "output_type": "stream",
     "text": [
      "The misclassification error rate is:\n",
      "0.2175\n"
     ]
    }
   ],
   "source": [
    "same = labels == R[:,1]\n",
    "print(\"The misclassification error rate is:\")\n",
    "print(np.sum(1 - same) / N)"
   ]
  },
  {
   "cell_type": "markdown",
   "metadata": {},
   "source": [
    "## 3. Implement EM algorithm for Gaussian mixtures\n",
    "Next, implement the EM algorithm for Gaussian mixtures.\n",
    "  Write three functions: `log_likelihood`, `gm_e_step`, and `gm_m_step` as given in the lecture.\n",
    "  Identify the correct arguments, and the order to run them.\n",
    "  Initialize the algorithm with means as in Qs 2.1 k-means initialization, covariances with $\\hat\\Sigma_1=\\hat\\Sigma_2=I$,\n",
    "  and $\\hat\\pi_1=\\hat\\pi_2$.\n",
    "\n",
    "  In addition to the update equations in the lecture, for the M (Maximization) step, you also need to use this following equation to update the covariance $\\Sigma_k$:\n",
    "$$\\hat{\\mathbf{\\Sigma}_k} = \\frac{1}{N_k} \\sum^N_{n=1} r_k^{(n)}(\\mathbf{x}^{(n)} - \\hat{\\mathbf{\\mu}_k})(\\mathbf{x}^{(n)} - \\hat{\\mathbf{\\mu}_k})^{\\top}$$\n",
    "    \n",
    "  Run the algorithm until convergence and show the resulting cluster assignments on a scatter plot either using different color codes or shape or both.\n",
    "  Also plot the log-likelihood vs. the number of iterations. Report your misclassification error."
   ]
  },
  {
   "cell_type": "code",
   "execution_count": 43,
   "metadata": {},
   "outputs": [],
   "source": [
    "def normal_density(x, mu, Sigma):\n",
    "    return np.exp(-.5 * np.dot(x - mu, np.linalg.solve(Sigma, x - mu))) \\\n",
    "        / np.sqrt(np.linalg.det(2 * np.pi * Sigma))"
   ]
  },
  {
   "cell_type": "code",
   "execution_count": 53,
   "metadata": {},
   "outputs": [],
   "source": [
    "def log_likelihood(data, Mu, Sigma, Pi):\n",
    "    \"\"\" Compute log likelihood on the data given the Gaussian Mixture Parameters.\n",
    "    \n",
    "    Args:\n",
    "        data: a NxD matrix for the data points\n",
    "        Mu: a DxK matrix for the means of the K Gaussian Mixtures\n",
    "        Sigma: a list of size K with each element being DxD covariance matrix\n",
    "        Pi: a vector of size K for the mixing coefficients\n",
    "    \n",
    "    Returns:\n",
    "        L: a scalar denoting the log likelihood of the data given the Gaussian Mixture\n",
    "    \"\"\"\n",
    "    # Fill this in:\n",
    "    N, D = data.shape  # Number of datapoints and dimension of datapoint\n",
    "    K = Mu.shape[1] # number of mixtures\n",
    "    L, T = 0., 0.\n",
    "    for n in range(N):\n",
    "        \n",
    "        for k in range(K):\n",
    "            T += Pi[k] @ Sigma[k] # Compute the likelihood from the k-th Gaussian weighted by the mixing coefficients \n",
    "        L += np.log(T)\n",
    "    return L"
   ]
  },
  {
   "cell_type": "code",
   "execution_count": 56,
   "metadata": {},
   "outputs": [],
   "source": [
    "# TODO: Gaussian Mixture Expectation Step\n",
    "def gm_e_step(data, Mu, Sigma, Pi):\n",
    "    \"\"\" Gaussian Mixture Expectation Step.\n",
    "\n",
    "    Args:\n",
    "        data: a NxD matrix for the data points\n",
    "        Mu: a DxK matrix for the means of the K Gaussian Mixtures\n",
    "        Sigma: a list of size K with each element being DxD covariance matrix\n",
    "        Pi: a vector of size K for the mixing coefficients\n",
    "    \n",
    "    Returns:\n",
    "        Gamma: a NxK matrix of responsibilities \n",
    "    \"\"\"\n",
    "    # Fill this in:\n",
    "    N, D = data.shape # Number of datapoints and dimension of datapoint\n",
    "    K = Mu.shape[1] # number of mixtures\n",
    "    Gamma = np.zeros([N, K]) # zeros of shape (N,K), matrix of responsibilities\n",
    "    for n in range(N):\n",
    "        for k in range(K):\n",
    "            Gamma[n, k] = Pi[k] * Sigma[k]\n",
    "        Gamma[n, :] /= Pi @ Sigma # Normalize by sum across second dimension (mixtures)\n",
    "    return Gamma"
   ]
  },
  {
   "cell_type": "code",
   "execution_count": 320,
   "metadata": {},
   "outputs": [],
   "source": [
    "# TODO: Gaussian Mixture Maximization Step\n",
    "def gm_m_step(data, Gamma):\n",
    "    \"\"\" Gaussian Mixture Maximization Step.\n",
    "\n",
    "    Args:\n",
    "        data: a NxD matrix for the data points\n",
    "        Gamma: a NxK matrix of responsibilities \n",
    "    \n",
    "    Returns:\n",
    "        Mu: a DxK matrix for the means of the K Gaussian Mixtures\n",
    "        Sigma: a list of size K with each element being DxD covariance matrix\n",
    "        Pi: a vector of size K for the mixing coefficients\n",
    "    \"\"\"\n",
    "    # Fill this in:\n",
    "    N, D = data.shape # Number of datapoints and dimension of datapoint\n",
    "    K = Gamma.shape[1]  # number of mixtures\n",
    "    Nk = np.sum(data, axis=0) # Sum along first axis \n",
    "    Mu = np.zeros((D,K))\n",
    "    Sigma = []\n",
    "\n",
    "    for k in range(K):\n",
    "        # ...\n",
    "        Sigma[k] = ... \n",
    "    # Pi = ... \n",
    "    return Mu, Sigma, Pi"
   ]
  },
  {
   "cell_type": "code",
   "execution_count": 321,
   "metadata": {},
   "outputs": [],
   "source": [
    "# TODO: Run this cell to call the Gaussian Mixture EM algorithm\n",
    "N, D = data.shape\n",
    "K = 2\n",
    "Mu = np.zeros([D, K])\n",
    "Mu[:, 1] = 1.\n",
    "Sigma = [np.eye(2), np.eye(2)]\n",
    "Pi = np.ones(K) / K\n",
    "Gamma = np.zeros([N, K]) # Gamma is the matrix of responsibilities \n",
    "\n",
    "max_iter  = 200\n",
    "\n",
    "#for it in range(max_iter):\n",
    "    #Gamma = gm_e_step(data, Mu, Sigma, Pi)\n",
    "    #Mu, Sigma, Pi = gm_m_step(data, Gamma)\n",
    "    # print(it, log_likelihood(data, Mu, Sigma, Pi)) # This function makes the computation longer, but good for debugging\n",
    "\n",
    "#class_1 = np.where(Gamma[:, 0] >= .5)\n",
    "#class_2 = np.where(Gamma[:, 1] >= .5)\n"
   ]
  },
  {
   "cell_type": "code",
   "execution_count": null,
   "metadata": {},
   "outputs": [],
   "source": [
    "# TODO: Make a scatterplot for the data points showing the Gaussian Mixture cluster assignments of each point\n",
    "# plt.plot(...) # first class, x shape\n",
    "# plt.plot(...) # second class, circle shape"
   ]
  },
  {
   "cell_type": "markdown",
   "metadata": {},
   "source": [
    "## 4. Comment on findings + additional experiments"
   ]
  },
  {
   "cell_type": "markdown",
   "metadata": {},
   "source": [
    "Comment on the results:\n",
    "\n",
    "* Compare the performance of k-Means and EM based on the resulting cluster assignments.\n",
    "* Compare the performance of k-Means and EM based on their convergence rate. What is the bottleneck for which method?\n",
    "* Experiment with 5 different data realizations (generate new data), run your algorithms, and summarize your findings. Does the algorithm performance depend on different realizations of data?\n",
    " \n"
   ]
  },
  {
   "cell_type": "markdown",
   "metadata": {},
   "source": [
    "**TODO: Your written answer here**\n",
    "\n",
    "..."
   ]
  },
  {
   "cell_type": "markdown",
   "metadata": {},
   "source": [
    "# 2. Reinforcement Learning\n",
    "\n",
    "There are 3 files:\n",
    "1. `maze.py`: defines the `MazeEnv` class, the simulation environment which the Q-learning agent will interact in.\n",
    "2. `qlearning.py`: defines the `qlearn` function which you will implement, along with several helper functions. Follow the instructions in the file. \n",
    "3. `plotting_utils.py`: defines several plotting and visualization utilities. In particular, you will use `plot_steps_vs_iters`, `plot_several_steps_vs_iters`, `plot_policy_from_q`"
   ]
  },
  {
   "cell_type": "code",
   "execution_count": 90,
   "metadata": {},
   "outputs": [],
   "source": [
    "from qlearning import qlearn\n",
    "from maze import MazeEnv, ProbabilisticMazeEnv\n",
    "from plotting_utils import plot_steps_vs_iters, plot_several_steps_vs_iters, plot_policy_from_q"
   ]
  },
  {
   "cell_type": "code",
   "execution_count": 262,
   "metadata": {},
   "outputs": [],
   "source": [
    "# %load qlearning.py\n",
    "import numpy as np\n",
    "import math\n",
    "import copy\n",
    "\n",
    "def qlearn(env, num_iters, alpha, gamma, epsilon, max_steps, use_softmax_policy, init_beta=None, k_exp_sched=None):\n",
    "    \"\"\" Runs tabular Q learning algorithm for stochastic environment.\n",
    "\n",
    "    Args:\n",
    "        env: instance of environment object \n",
    "        num_iters (int): Number of episodes to run Q-learning algorithm\n",
    "        alpha (float): The learning rate between [0,1]\n",
    "        gamma (float): Discount factor, between [0,1)\n",
    "        epsilon (float): Probability in [0,1] that the agent selects a random move instead of \n",
    "                selecting greedily from Q value\n",
    "        max_steps (int): Maximum number of steps in the environment per episode\n",
    "        use_softmax_policy (bool): Whether to use softmax policy (True) or Epsilon-Greedy (False)\n",
    "        init_beta (float): If using stochastic policy, sets the initial beta as the parameter for the softmax\n",
    "        k_exp_sched (float): If using stochastic policy, sets hyperparameter for exponential schedule\n",
    "            on beta\n",
    "    \n",
    "    Returns:\n",
    "        q_hat: A Q-value table shaped [num_states, num_actions] for environment with with num_states \n",
    "            number of states (e.g. num rows * num columns for grid) and num_actions number of possible \n",
    "            actions (e.g. 4 actions up/down/left/right)\n",
    "        steps_vs_iters: An array of size num_iters. Each element denotes the number \n",
    "            of steps in the environment that the agent took to get to the goal\n",
    "            (capped to max_steps)\n",
    "    \"\"\"\n",
    "    action_space_size = env.num_actions\n",
    "    state_space_size = env.num_states\n",
    "    q_hat = np.zeros(shape=(state_space_size, action_space_size))\n",
    "    steps_vs_iters = np.zeros(num_iters)\n",
    "    \n",
    "    for i in range(num_iters):\n",
    "        # TODO: Initialize current state by resetting the environment\n",
    "        curr_state = env.reset()\n",
    "        num_steps = 0\n",
    "        done = False\n",
    "\n",
    "        # TODO: Keep looping while environment isn't done and less than maximum steps\n",
    "        while not done and num_steps < max_steps:\n",
    "            num_steps += 1\n",
    "\n",
    "            # Choose an action using policy derived from either softmax Q-value \n",
    "            # or epsilon greedy\n",
    "            if use_softmax_policy:\n",
    "                assert(init_beta is not None)\n",
    "                assert(k_exp_sched is not None)\n",
    "                # TODO: Boltzmann stochastic policy\n",
    "                beta = beta_exp_schedule(init_beta, num_steps) # Call beta_exp_schedule to get the current beta value\n",
    "                action = softmax_policy(q_hat, beta, curr_state)\n",
    "            else:\n",
    "                # TODO: Epsilon-greedy\n",
    "                action = epsilon_greedy(q_hat, epsilon, curr_state, action_space_size)\n",
    "\n",
    "            # TODO: Execute action in the environment and observe the next state, reward, and done flag\n",
    "            next_state, reward, done = env.step(action)\n",
    "\n",
    "            # TODO: Update Q_value\n",
    "            if next_state != curr_state:\n",
    "                new_value =  reward + gamma * (np.max(q_hat[next_state]))\n",
    "                # TODO: Use Q-learning rule to update q_hat for the curr_state and action:\n",
    "                # i.e., Q(s,a) <- Q(s,a) + alpha*[reward + gamma * max_a'(Q(s',a')) - Q(s,a)]\n",
    "                q_hat[curr_state, action] = (1 - alpha) * q_hat[curr_state, action] + alpha * new_value\n",
    "                \n",
    "                # TODO: Update the current staet to be the next state\n",
    "                curr_state = next_state\n",
    "\n",
    "        steps_vs_iters[i] = num_steps\n",
    "    \n",
    "    return q_hat, steps_vs_iters\n",
    "\n",
    "\n",
    "def epsilon_greedy(q_hat, epsilon, state, action_space_size):\n",
    "    \"\"\" Chooses a random action with epsilon probability,\n",
    "    otherwise choose the action with highest Q value for\n",
    "    current observation\n",
    "\n",
    "    Args:\n",
    "        q_hat: A Q-value table shaped [num_states, num_actions] for \n",
    "            grid environment with num_rows rows and num_col columns and num_actions \n",
    "            number of possible actions\n",
    "        epsilon (float): Probability in [0,1] that the agent selects a random \n",
    "            move instead of selecting greedily from Q value\n",
    "        state (integer): Parameter.\n",
    "        action_space_size (int): number of possible actions\n",
    "    \n",
    "    Returns:\n",
    "        action (int): A number in the range [0, action_space_size-1]\n",
    "            denoting the action the agent will take\n",
    "    \"\"\"\n",
    "    # TODO: Implement your code here\n",
    "    # Hint: Sample from a uniform distribution and check if the sample is below\n",
    "    # a certain threshold\n",
    "    # ...\n",
    "    if np.random.uniform(0, 1) < epsilon:\n",
    "        action = np.random.randint(action_space_size)\n",
    "    else:\n",
    "        m = np.max(q_hat[state])\n",
    "        ties = np.where(q_hat[state] == m)[0]\n",
    "        action = np.random.choice(ties)\n",
    "    return action\n",
    "    \n",
    "\n",
    "def softmax_policy(q_hat, beta, state):\n",
    "    \"\"\" Choose action using policy derived from Q, using\n",
    "    softmax of the Q values divided by the temperature.\n",
    "\n",
    "    Args:\n",
    "        q_hat: A Q-value table shaped [num_states, num_actions] for \n",
    "            grid environment with num_rows rows and num_col columns\n",
    "        beta (float): Parameter for controlling the stochasticity of the action\n",
    "        state (integer): Parameter.\n",
    "\n",
    "    Returns:\n",
    "        action (int): A number in the range [0, action_space_size-1]\n",
    "            denoting the action the agent will take\n",
    "    \"\"\"\n",
    "    # TODO: Implement your code here\n",
    "    # Hint: use the stable_softmax function defined below\n",
    "    _, num_actions = q_hat.shape\n",
    "    output = stable_softmax(beta*q_hat, 1)\n",
    "    action = np.random.choice(num_actions, 1, p=output[state])\n",
    "    return action[0]\n",
    "\n",
    "def beta_exp_schedule(init_beta, iteration, k=0.1):\n",
    "   beta = init_beta * np.exp(k * iteration)\n",
    "   return beta\n",
    "\n",
    "def stable_softmax(x, axis=2):\n",
    "    \"\"\" Numerically stable softmax:\n",
    "    softmax(x) = e^x /(sum(e^x))\n",
    "               = e^x / (e^max(x) * sum(e^x/e^max(x)))\n",
    "    \n",
    "    Args:\n",
    "        x: An N-dimensional array of floats\n",
    "        axis: The axis for normalizing over.\n",
    "    \n",
    "    Returns:\n",
    "        output: softmax(x) along the specified dimension\n",
    "    \"\"\"\n",
    "    max_x = np.max(x, axis, keepdims=True)\n",
    "    z = np.exp(x - max_x)\n",
    "    output = z / np.sum(z, axis, keepdims=True)\n",
    "    \n",
    "    return output"
   ]
  },
  {
   "cell_type": "markdown",
   "metadata": {},
   "source": [
    "## 1. Basic Q Learning experiments"
   ]
  },
  {
   "cell_type": "markdown",
   "metadata": {},
   "source": [
    "(a) Run your algorithm several times on the given environment. Use the following hyperparameters:\n",
    "1. Number of episodes = 200\n",
    "2. Alpha ($\\alpha$) learning rate = 1.0\n",
    "2. Maximum number of steps per episode = 100. An episode ends when the agent reaches a goal state, or uses the maximum number of steps per episode\n",
    "3. Gamma ($\\gamma$) discount factor = 0.9\n",
    "4. Epsilon ($\\epsilon$) for $\\epsilon$-greedy = 0.1 (10% of the time). Note that we should \"break-ties\" when the Q-values are zero for all the actions (happens initially) by essentially choosing uniformly from the action. So now you have two conditions to act randomly: for epsilon amount of the time, or if the Q values are all zero. \n"
   ]
  },
  {
   "cell_type": "code",
   "execution_count": 267,
   "metadata": {},
   "outputs": [],
   "source": [
    "# TODO: Fill this in\n",
    "num_iters = 200\n",
    "alpha = 1.0\n",
    "gamma = 0.9\n",
    "epsilon = 0.1\n",
    "max_steps = 100\n",
    "use_softmax_policy = False\n",
    "\n",
    "# TODO: Instantiate the MazeEnv environment with default arguments\n",
    "env = MazeEnv()\n",
    "\n",
    "# TODO: Run Q-learning:\n",
    "q_hat, steps_vs_iters = qlearn(env, num_iters, alpha, gamma, epsilon, max_steps, use_softmax_policy)"
   ]
  },
  {
   "cell_type": "markdown",
   "metadata": {},
   "source": [
    "Plot the steps to goal vs training iterations (episodes):"
   ]
  },
  {
   "cell_type": "code",
   "execution_count": 268,
   "metadata": {},
   "outputs": [
    {
     "data": {
      "image/png": "[encoded data removed]",
      "text/plain": [
       "<Figure size 432x288 with 1 Axes>"
      ]
     },
     "metadata": {
      "needs_background": "light"
     },
     "output_type": "display_data"
    }
   ],
   "source": [
    "# TODO: Plot the steps vs iterations\n",
    "plot_steps_vs_iters(steps_vs_iters)"
   ]
  },
  {
   "cell_type": "markdown",
   "metadata": {},
   "source": [
    "Visualize the learned greedy policy from the Q values:"
   ]
  },
  {
   "cell_type": "code",
   "execution_count": 269,
   "metadata": {
    "scrolled": true
   },
   "outputs": [
    {
     "data": {
      "image/png": "[encoded data removed]",
      "text/plain": [
       "<Figure size 480x320 with 1 Axes>"
      ]
     },
     "metadata": {
      "needs_background": "light"
     },
     "output_type": "display_data"
    },
    {
     "data": {
      "text/plain": [
       "<Figure size 720x720 with 0 Axes>"
      ]
     },
     "metadata": {},
     "output_type": "display_data"
    }
   ],
   "source": [
    "# TODO: plot the policy from the Q value\n",
    "plot_policy_from_q(q_hat, env)"
   ]
  },
  {
   "cell_type": "markdown",
   "metadata": {},
   "source": [
    "(b) Run your algorithm by passing in a list of 2 goal locations: (1,8) and (5,6). Note: we are using 0-indexing, where (0,0) is top left corner. Report on the results."
   ]
  },
  {
   "cell_type": "code",
   "execution_count": 270,
   "metadata": {},
   "outputs": [],
   "source": [
    "# TODO: Fill this in (same as before)\n",
    "num_iters = 200\n",
    "alpha = 1.0\n",
    "gamma = 0.9\n",
    "epsilon = 0.1\n",
    "max_steps = 100\n",
    "use_softmax_policy = False\n",
    "\n",
    "# TODO: Set the goal\n",
    "goal_locs = [[1, 8], [5, 6]]\n",
    "env = MazeEnv(goals=goal_locs)\n",
    "\n",
    "# TODO: Run Q-learning:\n",
    "q_hat, steps_vs_iters = qlearn(env, num_iters, alpha, gamma, epsilon, max_steps, use_softmax_policy)"
   ]
  },
  {
   "cell_type": "markdown",
   "metadata": {},
   "source": [
    "Plot the steps to goal vs training iterations (episodes):"
   ]
  },
  {
   "cell_type": "code",
   "execution_count": 271,
   "metadata": {},
   "outputs": [
    {
     "data": {
      "image/png": "[encoded data removed]",
      "text/plain": [
       "<Figure size 432x288 with 1 Axes>"
      ]
     },
     "metadata": {
      "needs_background": "light"
     },
     "output_type": "display_data"
    }
   ],
   "source": [
    "# TODO: Plot the steps vs iterations\n",
    "plot_steps_vs_iters(steps_vs_iters)"
   ]
  },
  {
   "cell_type": "markdown",
   "metadata": {},
   "source": [
    "Plot the steps to goal vs training iterations (episodes):"
   ]
  },
  {
   "cell_type": "code",
   "execution_count": 272,
   "metadata": {},
   "outputs": [
    {
     "data": {
      "image/png": "[encoded data removed]",
      "text/plain": [
       "<Figure size 480x320 with 1 Axes>"
      ]
     },
     "metadata": {
      "needs_background": "light"
     },
     "output_type": "display_data"
    },
    {
     "data": {
      "text/plain": [
       "<Figure size 720x720 with 0 Axes>"
      ]
     },
     "metadata": {},
     "output_type": "display_data"
    }
   ],
   "source": [
    "# TODO: plot the policy from the Q values\n",
    "plot_policy_from_q(q_hat, env)"
   ]
  },
  {
   "cell_type": "markdown",
   "metadata": {},
   "source": [
    "## 2. Experiment with the exploration strategy, in the original environment"
   ]
  },
  {
   "cell_type": "markdown",
   "metadata": {},
   "source": [
    "(a) Try different $\\epsilon$ values in $\\epsilon$-greedy exploration: We asked you to use a rate of $\\epsilon$=10%, but try also 50% and 1%. Graph the results (for 3 epsilon values) and discuss the costs and benefits of higher and lower exploration rates."
   ]
  },
  {
   "cell_type": "code",
   "execution_count": 281,
   "metadata": {},
   "outputs": [],
   "source": [
    "# TODO: Fill this in (same as before)\n",
    "num_iters = 200\n",
    "alpha = 1.0\n",
    "gamma = 0.9\n",
    "max_steps = 100\n",
    "use_softmax_policy = False\n",
    "\n",
    "# TODO: set the epsilon lists in increasing order:\n",
    "epsilon_list = [0.01, 0.1, 0.5]\n",
    "\n",
    "env = MazeEnv()\n",
    "\n",
    "steps_vs_iters_list = []\n",
    "for epsilon in epsilon_list:\n",
    "    q_hat, steps_vs_iters = qlearn(env, num_iters, alpha, gamma, epsilon, max_steps, use_softmax_policy)\n",
    "    steps_vs_iters_list.append(steps_vs_iters)"
   ]
  },
  {
   "cell_type": "code",
   "execution_count": 282,
   "metadata": {},
   "outputs": [
    {
     "data": {
      "image/png": "[encoded data removed]",
      "text/plain": [
       "<Figure size 432x288 with 1 Axes>"
      ]
     },
     "metadata": {
      "needs_background": "light"
     },
     "output_type": "display_data"
    }
   ],
   "source": [
    "# TODO: Plot the results\n",
    "label_list = [\"epsilon={}\".format(eps) for eps in epsilon_list]\n",
    "plot_several_steps_vs_iters(steps_vs_iters_list, epsilon_list)"
   ]
  },
  {
   "cell_type": "markdown",
   "metadata": {},
   "source": [
    "(b) Try exploring with policy derived from **softmax of Q-values** described in the Q learning lecture. Use the values of $\\beta \\in \\{1, 3, 6\\}$ for your experiment, keeping $\\beta$ fixed throughout the training."
   ]
  },
  {
   "cell_type": "code",
   "execution_count": 291,
   "metadata": {},
   "outputs": [],
   "source": [
    "# TODO: Fill this in for Static Beta with softmax of Q-values\n",
    "num_iters = 200\n",
    "alpha = 1.0\n",
    "gamma = 0.9\n",
    "epsilon = 0.1\n",
    "max_steps = 100\n",
    "\n",
    "# TODO: Set the beta\n",
    "beta_list = [1, 3, 6]\n",
    "use_softmax_policy = True\n",
    "k_exp_schedule = 0.1 # (float) choose k such that we have a constant beta during training\n",
    "\n",
    "env = MazeEnv()\n",
    "steps_vs_iters_list = []\n",
    "for beta in beta_list:\n",
    "    q_hat, steps_vs_iters = qlearn(env, num_iters, alpha, gamma, epsilon, max_steps, use_softmax_policy, beta, k_exp_schedule)\n",
    "    steps_vs_iters_list.append(steps_vs_iters)"
   ]
  },
  {
   "cell_type": "code",
   "execution_count": 292,
   "metadata": {},
   "outputs": [
    {
     "data": {
      "image/png": "[encoded data removed]",
      "text/plain": [
       "<Figure size 432x288 with 1 Axes>"
      ]
     },
     "metadata": {
      "needs_background": "light"
     },
     "output_type": "display_data"
    }
   ],
   "source": [
    "label_list = [\"beta={}\".format(beta) for beta in beta_list]\n",
    "# TODO: \n",
    "plot_several_steps_vs_iters(steps_vs_iters_list, beta_list)"
   ]
  },
  {
   "cell_type": "markdown",
   "metadata": {},
   "source": [
    "(c) Instead of fixing the $\\beta = \\beta_0$ to the initial value, we will increase the value of $\\beta$ as the number of episodes $t$ increase:\n",
    "\n",
    "$$\\beta(t) = \\beta_0 e^{kt}$$\n",
    "\n",
    "That is, the $\\beta$ value is fixed for a particular episode.\n",
    "Run the training again for different values of $k \\in \\{0.05, 0.1, 0.25, 0.5\\}$, keeping $\\beta_0 = 1.0$. Compare the results obtained with this approach to those obtained with a static $\\beta$ value."
   ]
  },
  {
   "cell_type": "code",
   "execution_count": 316,
   "metadata": {},
   "outputs": [],
   "source": [
    "# TODO: Fill this in for Dynamic Beta\n",
    "num_iters = 200\n",
    "alpha = 1.0\n",
    "gamma = 0.9\n",
    "epsilon = 0.1\n",
    "max_steps = 200\n",
    "\n",
    "# TODO: Set the beta\n",
    "beta = 1.0\n",
    "use_softmax_policy = True\n",
    "k_exp_schedule_list = [0.05, 0.1, 0.25, 0.5]\n",
    "env = MazeEnv()\n",
    "\n",
    "steps_vs_iters_list = []\n",
    "for k_exp_schedule in k_exp_schedule_list:\n",
    "    q_hat, steps_vs_iters = qlearn(env, num_iters, alpha, gamma, epsilon, max_steps, use_softmax_policy, beta, k_exp_schedule)\n",
    "    steps_vs_iters_list.append(steps_vs_iters)"
   ]
  },
  {
   "cell_type": "code",
   "execution_count": 317,
   "metadata": {},
   "outputs": [
    {
     "data": {
      "image/png": "[encoded data removed]",
      "text/plain": [
       "<Figure size 432x288 with 1 Axes>"
      ]
     },
     "metadata": {
      "needs_background": "light"
     },
     "output_type": "display_data"
    }
   ],
   "source": [
    "# TODO: Plot the steps vs iterations\n",
    "label_list = [\"k={}\".format(k_exp_schedule) for k_exp_schedule in k_exp_schedule_list]\n",
    "plot_several_steps_vs_iters(steps_vs_iters_list, k_exp_schedule_list)"
   ]
  },
  {
   "cell_type": "markdown",
   "metadata": {},
   "source": [
    "## 3. Stochastic Environments"
   ]
  },
  {
   "cell_type": "markdown",
   "metadata": {},
   "source": [
    "(a) Make  the  environment  stochastic  (uncertain),  such  that  the  agent  only  has  a  95% chance  of  moving  in  the  chosen  direction,  and  has  a  5%  chance  of  moving  in  some random direction."
   ]
  },
  {
   "cell_type": "code",
   "execution_count": null,
   "metadata": {},
   "outputs": [],
   "source": [
    "# TODO: Implement ProbabilisticMazeEnv in maze.py"
   ]
  },
  {
   "cell_type": "code",
   "execution_count": 313,
   "metadata": {},
   "outputs": [],
   "source": [
    "# %load maze.py\n",
    "import numpy as np\n",
    "import copy\n",
    "import math\n",
    "\n",
    "ACTION_MEANING = {\n",
    "    0: \"UP\",\n",
    "    1: \"RIGHT\",\n",
    "    2: \"LEFT\",\n",
    "    3: \"DOWN\",\n",
    "}\n",
    "\n",
    "SPACE_MEANING = {\n",
    "    1: \"ROAD\",\n",
    "    0: \"BARRIER\",\n",
    "    -1: \"GOAL\",\n",
    "}\n",
    "\n",
    "\n",
    "class MazeEnv:\n",
    "\n",
    "    def __init__(self, start=[6,3], goals=[[1, 8]]):\n",
    "        \"\"\"Deterministic Maze Environment\"\"\"\n",
    "\n",
    "        self.m_size = 10\n",
    "        self.reward = 10\n",
    "        self.num_actions = 4\n",
    "        self.num_states = self.m_size * self.m_size\n",
    "\n",
    "        self.map = np.ones((self.m_size, self.m_size))\n",
    "        self.map[3, 4:9] = 0\n",
    "        self.map[4:8, 4] = 0\n",
    "        self.map[5, 2:4] = 0\n",
    "\n",
    "        for goal in goals:\n",
    "            self.map[goal[0], goal[1]] = -1\n",
    "\n",
    "        self.start = start\n",
    "        self.goals = goals\n",
    "        self.obs = self.start\n",
    "\n",
    "    def step(self, a):\n",
    "        \"\"\" Perform a action on the environment\n",
    "\n",
    "            Args:\n",
    "                a (int): action integer\n",
    "\n",
    "            Returns:\n",
    "                obs (list): observation list\n",
    "                reward (int): reward for such action\n",
    "                done (int): whether the goal is reached\n",
    "        \"\"\"\n",
    "        done, reward = False, 0.0\n",
    "        next_obs = copy.copy(self.obs)\n",
    "\n",
    "        if a == 0:\n",
    "            next_obs[0] = next_obs[0] - 1\n",
    "        elif a == 1:\n",
    "            next_obs[1] = next_obs[1] + 1\n",
    "        elif a == 2:\n",
    "            next_obs[1] = next_obs[1] - 1\n",
    "        elif a == 3:\n",
    "            next_obs[0] = next_obs[0] + 1\n",
    "        else:\n",
    "            raise Exception(\"Action is Not Valid\")\n",
    "\n",
    "        if self.is_valid_obs(next_obs):\n",
    "            self.obs = next_obs\n",
    "\n",
    "        if self.map[self.obs[0], self.obs[1]] == -1:\n",
    "            reward = self.reward\n",
    "            done = True\n",
    "        \n",
    "        state = self.get_state_from_coords(self.obs[0], self.obs[1])\n",
    "\n",
    "        return state, reward, done\n",
    "\n",
    "    def is_valid_obs(self, obs):\n",
    "        \"\"\" Check whether the observation is valid\n",
    "\n",
    "            Args:\n",
    "                obs (list): observation [x, y]\n",
    "\n",
    "            Returns:\n",
    "                is_valid (bool)\n",
    "        \"\"\"\n",
    "\n",
    "        if obs[0] >= self.m_size or obs[0] < 0:\n",
    "            return False\n",
    "\n",
    "        if obs[1] >= self.m_size or obs[1] < 0:\n",
    "            return False\n",
    "\n",
    "        if self.map[obs[0], obs[1]] == 0:\n",
    "            return False\n",
    "\n",
    "        return True\n",
    "\n",
    "    @property\n",
    "    def _get_obs(self):\n",
    "        \"\"\" Get current observation\n",
    "        \"\"\"\n",
    "        return self.obs\n",
    "    \n",
    "    @property\n",
    "    def _get_state(self):\n",
    "        \"\"\" Get current observation\n",
    "        \"\"\"\n",
    "        return self.get_state_from_coords(self.obs[0], self.obs[1])\n",
    "    \n",
    "    @property\n",
    "    def _get_start_state(self):\n",
    "        \"\"\" Get the start state\n",
    "        \"\"\"\n",
    "        return self.get_state_from_coords(self.start[0], self.start[1])\n",
    "    \n",
    "    @property\n",
    "    def _get_goal_state(self):\n",
    "        \"\"\" Get the start state\n",
    "        \"\"\"\n",
    "        goals = []\n",
    "        for goal in self.goals:\n",
    "            goals.append(self.get_state_from_coords(goal[0], goal[1]))\n",
    "        return goals\n",
    "\n",
    "    def reset(self):\n",
    "        \"\"\" Reset the observation into starting point\n",
    "        \"\"\"\n",
    "        self.obs = self.start\n",
    "        state = self.get_state_from_coords(self.obs[0], self.obs[1])\n",
    "        return state\n",
    "    \n",
    "    def get_state_from_coords(self, row, col):\n",
    "        state = row * self.m_size + col\n",
    "        return state\n",
    "    \n",
    "    def get_coords_from_state(self, state):\n",
    "        row = math.floor(state/self.m_size)\n",
    "        col = state % self.m_size \n",
    "        return row, col\n",
    "\n",
    "\n",
    "class ProbabilisticMazeEnv(MazeEnv):\n",
    "    \"\"\" (Q2.3) Hints: you can refer the implementation in MazeEnv \n",
    "    \"\"\"\n",
    "    \n",
    "    def __init__(self, goals=[[2, 8]], p_random=0.05):\n",
    "        \"\"\" Probabilistic Maze Environment \n",
    "\n",
    "            Args:\n",
    "                goals (list): list of goals coordinates\n",
    "                p_random (float): random action rate\n",
    "        \"\"\"\n",
    "\n",
    "        self.m_size = 10\n",
    "        self.reward = 10\n",
    "        self.num_actions = 4\n",
    "        self.num_states = self.m_size * self.m_size\n",
    "\n",
    "        self.map = np.ones((self.m_size, self.m_size))\n",
    "        self.map[3, 4:9] = 0\n",
    "        self.map[4:8, 4] = 0\n",
    "        self.map[5, 2:4] = 0\n",
    "\n",
    "        for goal in goals:\n",
    "            self.map[goal[0], goal[1]] = -1\n",
    "\n",
    "        self.start = [6,3]\n",
    "        self.goals = goals\n",
    "        self.obs = self.start\n",
    "        self.p_random = p_random\n",
    "\n",
    "    def step(self, a):\n",
    "        done, reward = False, 0.0\n",
    "        next_obs = copy.copy(self.obs)\n",
    "        \n",
    "        if np.random.uniform(0, 1) < self.p_random:\n",
    "            a = np.random.randint(self.num_actions)\n",
    "            \n",
    "        if a == 0:\n",
    "            next_obs[0] = next_obs[0] - 1\n",
    "        elif a == 1:\n",
    "            next_obs[1] = next_obs[1] + 1\n",
    "        elif a == 2:\n",
    "            next_obs[1] = next_obs[1] - 1\n",
    "        elif a == 3:\n",
    "            next_obs[0] = next_obs[0] + 1\n",
    "        else:\n",
    "            raise Exception(\"Action is Not Valid\")\n",
    "\n",
    "        if self.is_valid_obs(next_obs):\n",
    "            self.obs = next_obs\n",
    "\n",
    "        if self.map[self.obs[0], self.obs[1]] == -1:\n",
    "            reward = self.reward\n",
    "            done = True\n",
    "        \n",
    "        state = self.get_state_from_coords(self.obs[0], self.obs[1])\n",
    "\n",
    "        return state, reward, done\n"
   ]
  },
  {
   "cell_type": "markdown",
   "metadata": {},
   "source": [
    "(b) Change the learning rule to handle the non-determinism, and experiment with different probability of environment performing random action $p_{rand} \\in \\{0.05, 0.1, 0.25, 0.5\\}$ in this new rule. How does performance vary as the environment becomes more stochastic?\n",
    "\n",
    "Use the same parameters as in first part, except change the alpha ($\\alpha$) value to be **less than 1**, e.g. 0.5."
   ]
  },
  {
   "cell_type": "code",
   "execution_count": 318,
   "metadata": {},
   "outputs": [],
   "source": [
    "# TODO: Use the same parameters as in the first part, except change alpha\n",
    "num_iters = 200\n",
    "alpha = 0.5\n",
    "gamma = 0.9\n",
    "epsilon = 0.1\n",
    "max_steps = 100\n",
    "use_softmax_policy = False\n",
    "\n",
    "# Set the environment probability of random\n",
    "env_p_rand_list = [0.05, 0.1, 0.25, 0.5]\n",
    "\n",
    "steps_vs_iters_list = []\n",
    "for env_p_rand in env_p_rand_list:\n",
    "    # Instantiate with ProbabilisticMazeEnv\n",
    "    env = ProbabilisticMazeEnv(p_random=env_p_rand)\n",
    "\n",
    "    # Note: We will repeat for several runs of the algorithm to make the result less noisy\n",
    "    avg_steps_vs_iters = np.zeros(num_iters)\n",
    "    for i in range(10):\n",
    "        q_hat, steps_vs_iters = qlearn(env, num_iters, alpha, gamma, epsilon, max_steps, use_softmax_policy)\n",
    "        avg_steps_vs_iters += steps_vs_iters\n",
    "    avg_steps_vs_iters /= 10\n",
    "    steps_vs_iters_list.append(avg_steps_vs_iters)"
   ]
  },
  {
   "cell_type": "code",
   "execution_count": 319,
   "metadata": {},
   "outputs": [
    {
     "data": {
      "image/png": "[encoded data removed]",
      "text/plain": [
       "<Figure size 432x288 with 1 Axes>"
      ]
     },
     "metadata": {
      "needs_background": "light"
     },
     "output_type": "display_data"
    }
   ],
   "source": [
    "label_list = [\"env_random={}\".format(env_p_rand) for env_p_rand in env_p_rand_list]\n",
    "plot_several_steps_vs_iters(steps_vs_iters_list, env_p_rand_list)"
   ]
  },
  {
   "cell_type": "markdown",
   "metadata": {},
   "source": [
    "## 2.3 Write-up "
   ]
  },
  {
   "cell_type": "markdown",
   "metadata": {},
   "source": [
    "See 2.2.1, 2.2.2, 2.2.3 above for their respective graphs and figures.\n",
    "\n",
    "Summary of experiments:\n",
    "\n",
    "2.2.1 - Both a) and b) use the epsilon-greedy policy which chooses a random action with epsilon probability and otherwise the action with the max Q value. The epsilon used was 0.1. In b) two goal states were used (1,8) and (5,6), and the policy preferred the closer one at (5,6). In a), it took about 90 episodes for the number of steps to the goal to converge to about 15, whereas in b) it only took about 25 episodes for the number of steps to goal to converge to about 10.\n",
    "\n",
    "2.2.2.a - In the experiments here I still used the epsilon-greedy policy but compared the results with different epsilon values. The values were 0.01, 0.1, 0.5. From the steps to goal vs episodes graph we can see several different results between epsilons. The highest epsilon value, 0.5, took the least number of episodes to converge but had a higher number of steps to goal. Whereas when epsilon decreases, it took longer for the number of steps to converge.\n",
    "\n",
    "2.2.2.b - In the experiments here I used the softmax policy with different values of beta: 1, 3, 6. Here it looks like as the value of beta increases, the number of episodes needed for the number of steps to stabilize increased. Overall, the softmax policy took a greater number of episodes to converge compared to epsilon-greedy.\n",
    "\n",
    "2.2.2.c - This time the value of beta is fixed at 1 and the value of k, the hyperparameter used for exponential schedule on beta, is varied: 0.05, 0.1, 0.25, 0.5. Changing the value of k appears to have little affect on the experiments. The graph showing the steps to goal vs episodes does not show significant differences between different values of k.\n",
    "\n",
    "2.2.3 - This experiment makes the environment stochastic with different probabilities that the agent will move in a random direction despite choosing a direction: 0.05, 0.1, 0.25, 0.5. For the experiments, I used a learning rate of 0.5. The graph shows much more gradual lines to convergence compared to previous experiments. It also appears that with a higher stochastic probability, the number of steps to goal after the graph has converged at the end is higher."
   ]
  },
  {
   "cell_type": "markdown",
   "metadata": {},
   "source": [
    "# 3. Did you complete the course evaluation?"
   ]
  },
  {
   "cell_type": "code",
   "execution_count": 3,
   "metadata": {},
   "outputs": [],
   "source": [
    "# Answer: yes"
   ]
  }
 ],
 "metadata": {
  "kernelspec": {
   "display_name": "Python 2",
   "language": "python",
   "name": "python2"
  },
  "language_info": {
   "codemirror_mode": {
    "name": "ipython",
    "version": 3
   },
   "file_extension": ".py",
   "mimetype": "text/x-python",
   "name": "python",
   "nbconvert_exporter": "python",
   "pygments_lexer": "ipython3",
   "version": "3.6.8"
  }
 },
 "nbformat": 4,
 "nbformat_minor": 2
}
