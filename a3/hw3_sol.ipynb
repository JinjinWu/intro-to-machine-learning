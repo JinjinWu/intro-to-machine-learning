{
 "cells": [
  {
   "cell_type": "markdown",
   "metadata": {},
   "source": [
    "# CSC311 Assignment 3"
   ]
  },
  {
   "cell_type": "markdown",
   "metadata": {},
   "source": [
    "# Author: Anlan Wu (utorid: wuanlan)"
   ]
  },
  {
   "cell_type": "markdown",
   "metadata": {},
   "source": [
    "## Question 1 Code"
   ]
  },
  {
   "cell_type": "code",
   "execution_count": 292,
   "metadata": {},
   "outputs": [
    {
     "name": "stdout",
     "output_type": "stream",
     "text": [
      "Average log-likelihood for MLE is  2.0621952281275656e-05\n",
      "Average log-likelihood for MAP is  2.0616846643288375e-05\n",
      "Training accuracy for MAP is  0.016853703741420395\n",
      "Test accuracy for MAP is  0.035282898919262555\n"
     ]
    },
    {
     "data": {
      "image/png": "[encoded data removed]",
      "text/plain": [
       "<Figure size 432x288 with 1 Axes>"
      ]
     },
     "metadata": {},
     "output_type": "display_data"
    }
   ],
   "source": [
    "# %load naive_bayes.py\n",
    "from __future__ import absolute_import\n",
    "from __future__ import print_function\n",
    "from future.standard_library import install_aliases\n",
    "install_aliases()\n",
    "import numpy as np\n",
    "import os\n",
    "import gzip\n",
    "import struct\n",
    "import array\n",
    "import matplotlib.pyplot as plt\n",
    "import matplotlib.image\n",
    "from urllib.request import urlretrieve\n",
    "\n",
    "\n",
    "def download(url, filename):\n",
    "    if not os.path.exists('data'):\n",
    "        os.makedirs('data')\n",
    "    out_file = os.path.join('data', filename)\n",
    "    if not os.path.isfile(out_file):\n",
    "        urlretrieve(url, out_file)\n",
    "\n",
    "\n",
    "def mnist():\n",
    "    base_url = 'http://yann.lecun.com/exdb/mnist/'\n",
    "\n",
    "    def parse_labels(filename):\n",
    "        with gzip.open(filename, 'rb') as fh:\n",
    "            magic, num_data = struct.unpack(\">II\", fh.read(8))\n",
    "            return np.array(array.array(\"B\", fh.read()), dtype=np.uint8)\n",
    "\n",
    "    def parse_images(filename):\n",
    "        with gzip.open(filename, 'rb') as fh:\n",
    "            magic, num_data, rows, cols = struct.unpack(\">IIII\", fh.read(16))\n",
    "            return np.array(array.array(\"B\", fh.read()), dtype=np.uint8).reshape(num_data, rows, cols)\n",
    "\n",
    "    for filename in ['train-images-idx3-ubyte.gz',\n",
    "                     'train-labels-idx1-ubyte.gz',\n",
    "                     't10k-images-idx3-ubyte.gz',\n",
    "                     't10k-labels-idx1-ubyte.gz']:\n",
    "        download(base_url + filename, filename)\n",
    "\n",
    "    train_images = parse_images('data/train-images-idx3-ubyte.gz')\n",
    "    train_labels = parse_labels('data/train-labels-idx1-ubyte.gz')\n",
    "    test_images = parse_images('data/t10k-images-idx3-ubyte.gz')\n",
    "    test_labels = parse_labels('data/t10k-labels-idx1-ubyte.gz')\n",
    "\n",
    "    return train_images, train_labels, test_images[:1000], test_labels[:1000]\n",
    "\n",
    "\n",
    "def load_mnist():\n",
    "    partial_flatten = lambda x: np.reshape(x, (x.shape[0], np.prod(x.shape[1:])))\n",
    "    one_hot = lambda x, k: np.array(x[:, None] == np.arange(k)[None, :], dtype=int)\n",
    "    train_images, train_labels, test_images, test_labels = mnist()\n",
    "    train_images = (partial_flatten(train_images) / 255.0 > .5).astype(float)\n",
    "    test_images = (partial_flatten(test_images) / 255.0 > .5).astype(float)\n",
    "    train_labels = one_hot(train_labels, 10)\n",
    "    test_labels = one_hot(test_labels, 10)\n",
    "    N_data = train_images.shape[0]\n",
    "\n",
    "    return N_data, train_images, train_labels, test_images, test_labels\n",
    "\n",
    "\n",
    "def plot_images(images, ax, ims_per_row=5, padding=5, digit_dimensions=(28, 28),\n",
    "                cmap=matplotlib.cm.binary, vmin=None, vmax=None):\n",
    "    \"\"\"Images should be a (N_images x pixels) matrix.\"\"\"\n",
    "    N_images = images.shape[0]\n",
    "    N_rows = np.int32(np.ceil(float(N_images) / ims_per_row))\n",
    "    pad_value = np.min(images.ravel())\n",
    "    concat_images = np.full(((digit_dimensions[0] + padding) * N_rows + padding,\n",
    "                             (digit_dimensions[1] + padding) * ims_per_row + padding), pad_value)\n",
    "    for i in range(N_images):\n",
    "        cur_image = np.reshape(images[i, :], digit_dimensions)\n",
    "        row_ix = i // ims_per_row\n",
    "        col_ix = i % ims_per_row\n",
    "        row_start = padding + (padding + digit_dimensions[0]) * row_ix\n",
    "        col_start = padding + (padding + digit_dimensions[1]) * col_ix\n",
    "        concat_images[row_start: row_start + digit_dimensions[0],\n",
    "                      col_start: col_start + digit_dimensions[1]] = cur_image\n",
    "        cax = ax.matshow(concat_images, cmap=cmap, vmin=vmin, vmax=vmax)\n",
    "        plt.xticks(np.array([]))\n",
    "        plt.yticks(np.array([]))\n",
    "    return cax\n",
    "\n",
    "\n",
    "def save_images(images, filename, **kwargs):\n",
    "    fig = plt.figure(1)\n",
    "    fig.clf()\n",
    "    ax = fig.add_subplot(111)\n",
    "    plot_images(images, ax, **kwargs)\n",
    "    fig.patch.set_visible(False)\n",
    "    ax.patch.set_visible(False)\n",
    "    plt.savefig(filename)\n",
    "\n",
    "\n",
    "def train_mle_estimator(train_images, train_labels):\n",
    "    \"\"\" Inputs: train_images, train_labels\n",
    "        Returns the MLE estimators theta_mle and pi_mle\"\"\"\n",
    "\n",
    "    # YOU NEED TO WRITE THIS PART\n",
    "    N_jc = np.dot(train_images.T,train_labels)\n",
    "    N_c = np.sum(train_labels, axis=0)\n",
    "    N = np.sum(N_c)\n",
    "    \n",
    "    theta_mle = np.divide(N_jc, N_c)\n",
    "    pi_mle = N_c / N\n",
    "    \n",
    "    return theta_mle, pi_mle\n",
    "\n",
    "\n",
    "def train_map_estimator(train_images, train_labels):\n",
    "    \"\"\" Inputs: train_images, train_labels\n",
    "        Returns the MAP estimators theta_map and pi_map\"\"\"\n",
    "    \n",
    "    # YOU NEED TO WRITE THIS PART\n",
    "    \n",
    "    # numerator is same as mle + a - 1\n",
    "    # denominator is same as mle + a + b - 2\n",
    "    N_jc = np.dot(train_images.T,train_labels) + 2\n",
    "    N_c = np.sum(train_labels, axis=0) + 4\n",
    "    N = np.sum(np.sum(train_labels, axis=0))\n",
    "    \n",
    "    theta_map = np.divide(N_jc, N_c)\n",
    "    pi_map = np.sum(train_labels, axis=0) / N\n",
    "    \n",
    "    return theta_map, pi_map\n",
    "\n",
    "\n",
    "def log_likelihood(images, theta, pi):\n",
    "    \"\"\" Inputs: images, theta, pi\n",
    "        Returns the matrix 'log_like' of loglikehoods over the input images where\n",
    "    log_like[i,c] = log p (c |x^(i), theta, pi) using the estimators theta and pi.\n",
    "    log_like is a matrix of num of images x num of classes\n",
    "    Note that log likelihood is not only for c^(i), it is for all possible c's.\"\"\"\n",
    "\n",
    "    # YOU NEED TO WRITE THIS PART\n",
    "    joint = np.log(pi) + np.log(np.dot(images, theta))\n",
    "    log_like = joint / np.sum(joint, axis=0)\n",
    "\n",
    "    return log_like\n",
    "\n",
    "\n",
    "def predict(log_like):\n",
    "    \"\"\" Inputs: matrix of log likelihoods\n",
    "    Returns the predictions based on log likelihood values\"\"\"\n",
    "\n",
    "    # YOU NEED TO WRITE THIS PART\n",
    "    predictions = np.argmax(log_like, axis=1)\n",
    "    \n",
    "    return predictions\n",
    "\n",
    "\n",
    "def accuracy(log_like, labels):\n",
    "    \"\"\" Inputs: matrix of log likelihoods and 1-of-K labels\n",
    "    Returns the accuracy based on predictions from log likelihood values\"\"\"\n",
    "\n",
    "    # YOU NEED TO WRITE THIS PART\n",
    "    predictions = predict(log_like)\n",
    "    accuracy = np.sum(predictions == np.argmax(labels)) / np.sum(predictions)\n",
    "    \n",
    "    return accuracy\n",
    "\n",
    "\n",
    "def image_sampler(theta, pi, num_images):\n",
    "    \"\"\" Inputs: parameters theta and pi, and number of images to sample\n",
    "    Returns the sampled images\"\"\"\n",
    "\n",
    "    # YOU NEED TO WRITE THIS PART\n",
    "    for i in range(num_images):\n",
    "        p = np.random.choice(pi)\n",
    "        np.random.binomial([i for i in range(10)], p)\n",
    "    \n",
    "    return sampled_images\n",
    "\n",
    "\n",
    "def main():\n",
    "    N_data, train_images, train_labels, test_images, test_labels = load_mnist()\n",
    "\n",
    "    # Fit MLE and MAP estimators\n",
    "    theta_mle, pi_mle = train_mle_estimator(train_images, train_labels)\n",
    "    theta_map, pi_map = train_map_estimator(train_images, train_labels)\n",
    "\n",
    "    # Find the log likelihood of each data point\n",
    "    loglike_train_mle = log_likelihood(train_images, theta_mle, pi_mle)\n",
    "    loglike_train_map = log_likelihood(train_images, theta_map, pi_map)\n",
    "\n",
    "    avg_loglike_mle = np.sum(loglike_train_mle * train_labels) / N_data\n",
    "    avg_loglike_map = np.sum(loglike_train_map * train_labels) / N_data\n",
    "\n",
    "    print(\"Average log-likelihood for MLE is \", avg_loglike_mle)\n",
    "    print(\"Average log-likelihood for MAP is \", avg_loglike_map)\n",
    "\n",
    "    train_accuracy_map = accuracy(loglike_train_map, train_labels)\n",
    "    loglike_test_map = log_likelihood(test_images, theta_map, pi_map)\n",
    "    test_accuracy_map = accuracy(loglike_test_map, test_labels)\n",
    "\n",
    "    print(\"Training accuracy for MAP is \", train_accuracy_map)\n",
    "    print(\"Test accuracy for MAP is \", test_accuracy_map)\n",
    "\n",
    "    # Plot MLE and MAP estimators\n",
    "    save_images(theta_mle.T, 'mle.png')\n",
    "    save_images(theta_map.T, 'map.png')\n",
    "\n",
    "    # Sample 10 images\n",
    "    #sampled_images = image_sampler(theta_map, pi_map, 10)\n",
    "    #save_images(sampled_images, 'sampled_images.png')\n",
    "\n",
    "\n",
    "if __name__ == '__main__':\n",
    "    main()\n"
   ]
  },
  {
   "cell_type": "markdown",
   "metadata": {},
   "source": [
    "## Question 1.a"
   ]
  },
  {
   "cell_type": "markdown",
   "metadata": {},
   "source": [
    "$l(\\theta) = \\sum_{i=1}^N log(c^{(i)},x^{(i)})$\n",
    "\n",
    "$= \\sum_{i=1}^{N} log [p(c^{(i)}|\\pi) \\prod_{j=1}^{D} p(x_j^{(i)}|c^{(i)},\\theta_{jc})]$\n",
    "\n",
    "$= \\sum_{i=1}^{N} log p(c^{(i)}|\\pi) + \\sum_{j=1}^{D}\\sum_{i=1}^{N} log p(x_j^{(i)}|c^{(i)},\\theta_{jc})$\n",
    "\n",
    "For $\\theta_{jc}$ can look at second term:\n",
    "\n",
    "$\\sum_{j=1}^{D}\\sum_{i=1}^{N} log p(x_j^{(i)}|c^{(i)},\\theta_{jc}) = \\sum_{i=1}^{N} \\sum_{c=0}^{9} t_c^{(i)} \\{ x_j^{(i)} log \\theta_{jc} + (1 - x_j^{(i)}) log(1 - \\theta_{jc})\\})$\n",
    "\n",
    "Take partial derivative w.r.t. $\\theta_{jc}$:\n",
    "\n",
    "$\\frac{\\partial l(\\theta)}{\\partial \\theta_{jc}} = \\frac{\\sum_{i=1}^{N} t_c^{(i)} x_j^{(i)}} {\\theta_{jc}} - \\frac{\\sum_{i=1}^{N} t_c^{(i)} (1 - x_j^{(i)})}{1 - \\theta_{jc}}$\n",
    "\n",
    "For $j = 0,..,D$ and $c = 0,..,9$ we have (after setting derivative to 0 and solving for $\\theta_{jc}$):\n",
    "\n",
    "$\\hat{\\theta}_{jc} = \\frac{\\sum_{i=1}^{N}I[x_j^{(i)} = 1 \\& t_c^{(i)} = 1]}{\\sum_{i=1}^{N} I[t_c^{(i)} = 1]}$\n",
    "\n",
    "$\\hat{\\theta}_{jc} =$ (number of images with feature j = 1 and class c) / (number of images with class c)\n",
    "\n",
    "For $\\pi_c$ we can look at the first term:\n",
    "\n",
    "$\\sum_{i=1}^{N} log p(c^{(i)}|\\pi) = \\sum_{i=1}^{N} \\sum_{c=0}^{9} t_c^{(i)} log \\pi_c + \\sum_{i=1}^{N} \\sum_{c=0}^{9} (1 - t_c^{(i)}) log(1 - \\pi_c)$\n",
    "\n",
    "Take partial derivative w.r.t. $\\pi_{j}$:\n",
    "\n",
    "$\\frac{\\partial l(\\theta)}{\\partial \\pi_{j}} = \\frac{\\sum_{i=1}^{N} t_c^{(i)}} {\\pi_{j}} - \\frac{\\sum_{i=1}^{N} (1 - t_c^{(i)})}{1 - \\pi_{j}}$\n",
    "\n",
    "For each $c = 0,..,9$ we have:\n",
    "\n",
    "$\\hat{\\pi}_c = \\frac{\\sum_{i=1}^{N} I[t_c^{(i)} = 1]}{N}$\n",
    "\n",
    "$\\hat{\\pi}_c =$ (number of images with class c) / (total number of images)"
   ]
  },
  {
   "cell_type": "markdown",
   "metadata": {},
   "source": [
    "## Question 1.b "
   ]
  },
  {
   "cell_type": "markdown",
   "metadata": {},
   "source": [
    "Using Bayes Rule:\n",
    "\n",
    "$log p(c|x,\\theta,\\pi) = log[\\frac{p(x,c|\\theta,\\pi)}{p(x, \\theta, \\pi)}]$\n",
    "\n",
    "$= log[\\frac{p(c|\\pi)\\prod_{j=1}^D p(x_j|c, \\theta_{jc})}{\\sum_{c'} p(c') \\prod_{j=1}^D p(x_j|c')}]$\n",
    "\n",
    "$= log p(c|\\pi)\\prod_{j=1}^D p(x_j|c, \\theta_{jc}) - log \\sum_{c'} p(c') \\prod_{j=1}^D p(x_j|c')$\n",
    "\n",
    "$= log p(c|\\pi) + \\sum_{j=1}^D log p(x_j|c, \\theta_{jc}) - log \\sum_{c'} p(c') + \\sum_{j=1}^D log p(x_j|c')$"
   ]
  },
  {
   "cell_type": "markdown",
   "metadata": {},
   "source": [
    "## Question 1.c"
   ]
  },
  {
   "cell_type": "markdown",
   "metadata": {},
   "source": [
    "See  Question 1 Code above."
   ]
  },
  {
   "cell_type": "markdown",
   "metadata": {},
   "source": [
    "## Question 1.d "
   ]
  },
  {
   "cell_type": "code",
   "execution_count": 282,
   "metadata": {},
   "outputs": [
    {
     "data": {
      "image/png": "[encoded data removed]",
      "text/plain": [
       "<Figure size 432x288 with 1 Axes>"
      ]
     },
     "metadata": {
      "needs_background": "light"
     },
     "output_type": "display_data"
    }
   ],
   "source": [
    "mle_image = matplotlib.image.imread('mle.png')\n",
    "imgplot = plt.imshow(mle_image)\n",
    "plt.show()"
   ]
  },
  {
   "cell_type": "markdown",
   "metadata": {},
   "source": [
    "## Question 1.f "
   ]
  },
  {
   "cell_type": "markdown",
   "metadata": {},
   "source": [
    "See Question 1 Code above."
   ]
  },
  {
   "cell_type": "markdown",
   "metadata": {},
   "source": [
    "## Question 1.g "
   ]
  },
  {
   "cell_type": "code",
   "execution_count": 283,
   "metadata": {},
   "outputs": [
    {
     "data": {
      "image/png": "[encoded data removed]",
      "text/plain": [
       "<Figure size 432x288 with 1 Axes>"
      ]
     },
     "metadata": {
      "needs_background": "light"
     },
     "output_type": "display_data"
    }
   ],
   "source": [
    "map_image = matplotlib.image.imread('map.png')\n",
    "imgplot = plt.imshow(mle_image)\n",
    "plt.show()"
   ]
  },
  {
   "cell_type": "markdown",
   "metadata": {},
   "source": [
    "## Question 2.a"
   ]
  },
  {
   "cell_type": "markdown",
   "metadata": {},
   "source": [
    "True. Any two pixels $x_i$ and $x_j$ where $i \\neq j$ are independent given $c$. This comes from the naive assumption we use in the Naive Bayes model where we assume the pixels are conditionally independent given the class $c$."
   ]
  },
  {
   "cell_type": "markdown",
   "metadata": {},
   "source": [
    "## Question 2.b"
   ]
  },
  {
   "cell_type": "markdown",
   "metadata": {},
   "source": [
    "False. Knowing the class $c$ affects the probability of a given pixel $x_i$ being 1 if we know $x_j$ (where $i \\neq j$). We can no longer assume the pixels are independent."
   ]
  },
  {
   "cell_type": "markdown",
   "metadata": {},
   "source": [
    "## Question 2.c"
   ]
  },
  {
   "cell_type": "markdown",
   "metadata": {},
   "source": [
    "See above in section Question 1 code."
   ]
  },
  {
   "cell_type": "markdown",
   "metadata": {},
   "source": [
    "## Question 3 Code"
   ]
  },
  {
   "cell_type": "code",
   "execution_count": 160,
   "metadata": {},
   "outputs": [],
   "source": [
    "import numpy as np\n",
    "\n",
    "def load_data(filename, load2=True, load3=True):\n",
    "  \"\"\"Loads data for 2's and 3's\n",
    "  Inputs:\n",
    "    filename: Name of the file.\n",
    "    load2: If True, load data for 2's.\n",
    "    load3: If True, load data for 3's.\n",
    "  \"\"\"\n",
    "  assert (load2 or load3), \"Atleast one dataset must be loaded.\"\n",
    "  data = np.load(filename)\n",
    "  if load2 and load3:\n",
    "    inputs_train = np.hstack((data['train2'], data['train3']))\n",
    "    inputs_valid = np.hstack((data['valid2'], data['valid3']))\n",
    "    inputs_test = np.hstack((data['test2'], data['test3']))\n",
    "    target_train = np.hstack((np.zeros((1, data['train2'].shape[1])), np.ones((1, data['train3'].shape[1]))))\n",
    "    target_valid = np.hstack((np.zeros((1, data['valid2'].shape[1])), np.ones((1, data['valid3'].shape[1]))))\n",
    "    target_test = np.hstack((np.zeros((1, data['test2'].shape[1])), np.ones((1, data['test3'].shape[1]))))\n",
    "  else:\n",
    "    if load2:\n",
    "      inputs_train = data['train2']\n",
    "      target_train = np.zeros((1, data['train2'].shape[1]))\n",
    "      inputs_valid = data['valid2']\n",
    "      target_valid = np.zeros((1, data['valid2'].shape[1]))\n",
    "      inputs_test = data['test2']\n",
    "      target_test = np.zeros((1, data['test2'].shape[1]))\n",
    "    else:\n",
    "      inputs_train = data['train3']\n",
    "      target_train = np.zeros((1, data['train3'].shape[1]))\n",
    "      inputs_valid = data['valid3']\n",
    "      target_valid = np.zeros((1, data['valid3'].shape[1]))\n",
    "      inputs_test = data['test3']\n",
    "      target_test = np.zeros((1, data['test3'].shape[1]))\n",
    "\n",
    "  return inputs_train.T, inputs_valid.T, inputs_test.T, target_train.T, target_valid.T, target_test.T\n"
   ]
  },
  {
   "cell_type": "code",
   "execution_count": 161,
   "metadata": {},
   "outputs": [],
   "source": [
    "# load data\n",
    "inputs_train, inputs_valid, inputs_test, target_train, target_valid, target_test = load_data('digits.npz')"
   ]
  },
  {
   "cell_type": "code",
   "execution_count": 290,
   "metadata": {},
   "outputs": [
    {
     "data": {
      "image/png": "[encoded data removed]",
      "text/plain": [
       "<Figure size 432x288 with 1 Axes>"
      ]
     },
     "metadata": {
      "needs_background": "light"
     },
     "output_type": "display_data"
    }
   ],
   "source": [
    "# apply PCA algorithm to the training data\n",
    "k_values = [2, 5, 10, 20, 30]\n",
    "\n",
    "mean = np.mean(inputs_train, axis=0)\n",
    "centered = inputs_train - np.tile(mean, (inputs_train.shape[0], 1))\n",
    "\n",
    "C = np.cov(centered.T)\n",
    "\n",
    "U, S, V = np.linalg.svd(C)\n",
    "\n",
    "plt.plot(S2)\n",
    "plt.ylabel(\"eigenvalue\")\n",
    "plt.title(\"Sorted Eigenvalues\")\n",
    "\n",
    "k_spaces = []\n",
    "for k in k_values:\n",
    "    k_spaces.append(centered.dot(U[:,[i for i in range(k)]]))"
   ]
  },
  {
   "cell_type": "code",
   "execution_count": 163,
   "metadata": {},
   "outputs": [],
   "source": [
    "# apply PCA to validation data\n",
    "centered_valid = inputs_valid - np.tile(mean, (inputs_valid.shape[0], 1))\n",
    "\n",
    "k_spaces_valid = []\n",
    "for k in k_values:\n",
    "    k_spaces_valid.append(centered_valid.dot(U[:,[i for i in range(k)]]))"
   ]
  },
  {
   "cell_type": "code",
   "execution_count": 164,
   "metadata": {},
   "outputs": [],
   "source": [
    "def l2_distance(a, b):\n",
    "    \"\"\"Computes the Euclidean distance matrix between a and b.\n",
    "    \"\"\"\n",
    "\n",
    "    if a.shape[0] != b.shape[0]:\n",
    "        raise ValueError(\"A and B should be of same dimensionality\")\n",
    "\n",
    "    aa = np.sum(a**2, axis=0)\n",
    "    bb = np.sum(b**2, axis=0)\n",
    "    ab = np.dot(a.T, b)\n",
    "\n",
    "    return np.sqrt(aa[:, np.newaxis] + bb[np.newaxis, :] - 2*ab)"
   ]
  },
  {
   "cell_type": "code",
   "execution_count": 165,
   "metadata": {},
   "outputs": [],
   "source": [
    "def run_1nn(train_data, train_labels, valid_data):\n",
    "\n",
    "    dist = l2_distance(valid_data.T, train_data.T)\n",
    "    nearest = np.argsort(dist, axis=1)[:,:1]\n",
    "\n",
    "    train_labels = train_labels.reshape(-1)\n",
    "    valid_labels = train_labels[nearest]\n",
    "\n",
    "    valid_labels = (np.mean(valid_labels, axis=1) >= 0.5).astype(np.int)\n",
    "    valid_labels = valid_labels.reshape(-1,1)\n",
    "\n",
    "    return valid_labels"
   ]
  },
  {
   "cell_type": "markdown",
   "metadata": {},
   "source": [
    "## Question 3.a"
   ]
  },
  {
   "cell_type": "code",
   "execution_count": 166,
   "metadata": {},
   "outputs": [
    {
     "data": {
      "text/plain": [
       "Text(0, 0.5, 'misclassification rate')"
      ]
     },
     "execution_count": 166,
     "metadata": {},
     "output_type": "execute_result"
    },
    {
     "data": {
      "image/png": "[encoded data removed]",
      "text/plain": [
       "<Figure size 432x288 with 1 Axes>"
      ]
     },
     "metadata": {
      "needs_background": "light"
     },
     "output_type": "display_data"
    }
   ],
   "source": [
    "rates = []\n",
    "for i in range(len(k_values)):\n",
    "    prediction = run_1nn(k_spaces[i], target_train, k_spaces_valid[i])\n",
    "    num_correct = np.sum(prediction == target_valid)\n",
    "    rates.append((len(prediction) - num_correct)/len(prediction))\n",
    "    \n",
    "plt.plot(k_values, rates)\n",
    "plt.xlabel('K')\n",
    "plt.ylabel('misclassification rate')"
   ]
  },
  {
   "cell_type": "markdown",
   "metadata": {},
   "source": [
    "## Question 3.b"
   ]
  },
  {
   "cell_type": "markdown",
   "metadata": {},
   "source": [
    "I would choose K = 20 i.e. have 20 eigenvectors to model the data.\n",
    "Having a K = 20 is still sufficiently smaller than D = 256, allowing us to have a good low-dimensional representation of the data.\n",
    "From the misclassification rates seen from the validation set in 3.a, having 20 eigenvectors gave us the lowest misclassification rate of 0.005."
   ]
  },
  {
   "cell_type": "markdown",
   "metadata": {},
   "source": [
    "## Question 3.c"
   ]
  },
  {
   "cell_type": "code",
   "execution_count": 167,
   "metadata": {},
   "outputs": [
    {
     "name": "stdout",
     "output_type": "stream",
     "text": [
      "Misclassification rate of test data:  0.01\n"
     ]
    }
   ],
   "source": [
    "centered_test = inputs_test - np.tile(mean, (inputs_test.shape[0], 1))\n",
    "\n",
    "k_space_test = centered_test.dot(U[:,[i for i in range(20)]])\n",
    "\n",
    "test_prediction = run_1nn(k_spaces[-2], target_train, k_space_test)\n",
    "num_correct = np.sum(test_prediction == target_test)\n",
    "\n",
    "print(\"Misclassification rate of test data: \", (len(test_prediction) - num_correct) / len(test_prediction))"
   ]
  },
  {
   "cell_type": "markdown",
   "metadata": {},
   "source": [
    "The performance of the final classifier over the test data performs fairly well with only a 0.01 misclassification rate. This value is close to the validation data's rate of 0.005 so it performs within expectations."
   ]
  }
 ],
 "metadata": {
  "kernelspec": {
   "display_name": "Python 3",
   "language": "python",
   "name": "python3"
  },
  "language_info": {
   "codemirror_mode": {
    "name": "ipython",
    "version": 3
   },
   "file_extension": ".py",
   "mimetype": "text/x-python",
   "name": "python",
   "nbconvert_exporter": "python",
   "pygments_lexer": "ipython3",
   "version": "3.6.8"
  }
 },
 "nbformat": 4,
 "nbformat_minor": 2
}
